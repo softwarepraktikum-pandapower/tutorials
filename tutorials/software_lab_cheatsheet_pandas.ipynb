{
 "cells": [
  {
   "cell_type": "markdown",
   "id": "dc008495",
   "metadata": {},
   "source": [
    "# pandas"
   ]
  },
  {
   "cell_type": "markdown",
   "id": "c792ae48",
   "metadata": {},
   "source": [
    "pandas is a Python library that can be used for data analysis. With pandas we get two more data types: `pandas.Series` and `pandas.DataFrame`."
   ]
  },
  {
   "cell_type": "markdown",
   "id": "cf00d313",
   "metadata": {},
   "source": [
    "To work with pandas, it must be imported beforehand. Mostly pandas is abbreviated as pd:"
   ]
  },
  {
   "cell_type": "code",
   "execution_count": 1,
   "id": "e8631089",
   "metadata": {},
   "outputs": [],
   "source": [
    "import pandas as pd"
   ]
  },
  {
   "cell_type": "markdown",
   "id": "29014a4b",
   "metadata": {},
   "source": [
    "## Series and DataFrames"
   ]
  },
  {
   "cell_type": "markdown",
   "id": "f65cb746",
   "metadata": {},
   "source": [
    "A series corresponds to a table column or a one-dimensional array with the special feature that the contained values have a label (usually a continuous index):"
   ]
  },
  {
   "cell_type": "code",
   "execution_count": 2,
   "id": "99846e87",
   "metadata": {},
   "outputs": [
    {
     "name": "stdout",
     "output_type": "stream",
     "text": [
      "0    A\n",
      "1    B\n",
      "2    C\n",
      "dtype: object\n"
     ]
    }
   ],
   "source": [
    "s = pd.Series([\"A\", \"B\", \"C\"])\n",
    "print(s)"
   ]
  },
  {
   "cell_type": "markdown",
   "id": "8fcf5c2c",
   "metadata": {},
   "source": [
    "However, the labels or the indexes can also be set by the user:"
   ]
  },
  {
   "cell_type": "code",
   "execution_count": 3,
   "id": "d6e16200",
   "metadata": {},
   "outputs": [
    {
     "name": "stdout",
     "output_type": "stream",
     "text": [
      "x    A\n",
      "y    B\n",
      "z    C\n",
      "dtype: object\n"
     ]
    }
   ],
   "source": [
    "s = pd.Series([\"A\", \"B\", \"C\"], index=[\"x\", \"y\", \"z\"])\n",
    "print(s)"
   ]
  },
  {
   "cell_type": "markdown",
   "id": "b8eabd5f",
   "metadata": {},
   "source": [
    "DataFrames are two-dimensional data structures such as tables with rows and columns, which also have an index and additionally column names. Like the index, the column names are also numbered consecutively starting with 0 by default:"
   ]
  },
  {
   "cell_type": "code",
   "execution_count": 4,
   "id": "37f6eefe",
   "metadata": {},
   "outputs": [
    {
     "name": "stdout",
     "output_type": "stream",
     "text": [
      "    0   1   2\n",
      "0  10  20  30\n",
      "1  40  50  60\n"
     ]
    }
   ],
   "source": [
    "df = pd.DataFrame([[10, 20, 30],\n",
    "                   [40, 50, 60]])\n",
    "print(df)"
   ]
  },
  {
   "cell_type": "markdown",
   "id": "e4354efe",
   "metadata": {},
   "source": [
    "However, column names can also be specified here. Alternative indexes could also be specified. Usually, the continuous indexes starting at 0 are retained:"
   ]
  },
  {
   "cell_type": "code",
   "execution_count": 5,
   "id": "90a13c68",
   "metadata": {},
   "outputs": [
    {
     "name": "stdout",
     "output_type": "stream",
     "text": [
      "                    name                    team number   ppg   rpg  apg\n",
      "0            Joel Embiid      Philadelphia 76ers    #21  33.4  10.2  4.1\n",
      "1  Giannis Antetokounmpo         Milwaukee Bucks    #34  32.2  12.4  5.3\n",
      "2            Luka Doncic        Dallas Mavericks    #77  33.4   8.9  8.2\n",
      "3         Damien Lillard  Portland Trail Blazers     #0  30.8   4.0  7.2\n"
     ]
    }
   ],
   "source": [
    "data = [[\"Joel Embiid\", \"Philadelphia 76ers\", \"#21\", 33.4, 10.2, 4.1], \n",
    "        [\"Giannis Antetokounmpo\", \"Milwaukee Bucks\", \"#34\", 32.2, 12.4, 5.3],\n",
    "        [\"Luka Doncic\", \"Dallas Mavericks\", \"#77\", 33.4, 8.9, 8.2], \n",
    "        [\"Damien Lillard\", \"Portland Trail Blazers\", \"#0\", 30.8, 4.0, 7.2]]\n",
    "df = pd.DataFrame(data=data, columns=[\"name\", \"team\", \"number\", \"ppg\", \"rpg\", \"apg\"])\n",
    "print(df)"
   ]
  },
  {
   "cell_type": "markdown",
   "id": "9f4bc84c",
   "metadata": {},
   "source": [
    "## Indexing DataFrames"
   ]
  },
  {
   "cell_type": "markdown",
   "id": "03270617",
   "metadata": {},
   "source": [
    "To access cells within a DataFrame, the `loc` attribute can be used. It is attached directly to the DataFrame with a dot operator and takes the row (and optionally the column) of the cell. If only the row is specified, the entire row is returned as a Series, but if both row and column are specified, the corresponding cell is returned:"
   ]
  },
  {
   "cell_type": "code",
   "execution_count": 6,
   "id": "4665a83e",
   "metadata": {
    "scrolled": true
   },
   "outputs": [
    {
     "name": "stdout",
     "output_type": "stream",
     "text": [
      "Indexing a row:\n",
      "==========================\n",
      "name           Luka Doncic\n",
      "team      Dallas Mavericks\n",
      "number                 #77\n",
      "ppg                   33.4\n",
      "rpg                    8.9\n",
      "apg                    8.2\n",
      "Name: 2, dtype: object\n",
      "\n",
      "Indexing a cell:\n",
      "==========================\n",
      "Giannis Antetokounmpo\n"
     ]
    }
   ],
   "source": [
    "print(\"Indexing a row:\")\n",
    "print(\"==========================\")\n",
    "print(df.loc[2])\n",
    "\n",
    "print(\"\\nIndexing a cell:\")\n",
    "print(\"==========================\")\n",
    "print(df.loc[1, \"name\"])"
   ]
  },
  {
   "cell_type": "markdown",
   "id": "30b75dc3",
   "metadata": {},
   "source": [
    "It is also possible to access multiple rows or multiple columns. These are passed as a list for this purpose:"
   ]
  },
  {
   "cell_type": "code",
   "execution_count": 7,
   "id": "6facc27c",
   "metadata": {
    "scrolled": true
   },
   "outputs": [
    {
     "name": "stdout",
     "output_type": "stream",
     "text": [
      "                    name              team\n",
      "1  Giannis Antetokounmpo   Milwaukee Bucks\n",
      "2            Luka Doncic  Dallas Mavericks\n"
     ]
    }
   ],
   "source": [
    "print(df.loc[[1, 2], [\"name\", \"team\"]])"
   ]
  },
  {
   "cell_type": "markdown",
   "id": "7bd435e2",
   "metadata": {},
   "source": [
    "If you want to get all columns from one row, it is sufficient to specify no column as described above. However, if you want to get all rows from a column, you have to specify a `:` instead of the rows:"
   ]
  },
  {
   "cell_type": "code",
   "execution_count": 8,
   "id": "844d2a83",
   "metadata": {},
   "outputs": [
    {
     "name": "stdout",
     "output_type": "stream",
     "text": [
      "0              Joel Embiid\n",
      "1    Giannis Antetokounmpo\n",
      "2              Luka Doncic\n",
      "3           Damien Lillard\n",
      "Name: name, dtype: object\n"
     ]
    }
   ],
   "source": [
    "print(df.loc[:, \"name\"])"
   ]
  },
  {
   "cell_type": "markdown",
   "id": "c86010a4",
   "metadata": {},
   "source": [
    "The colon is used to slice a DataFrame. This makes it possible to get a range of rows without passing all rows within a list:"
   ]
  },
  {
   "cell_type": "code",
   "execution_count": 9,
   "id": "b633373f",
   "metadata": {},
   "outputs": [
    {
     "name": "stdout",
     "output_type": "stream",
     "text": [
      "                    name              team number   ppg   rpg  apg\n",
      "1  Giannis Antetokounmpo   Milwaukee Bucks    #34  32.2  12.4  5.3\n",
      "2            Luka Doncic  Dallas Mavericks    #77  33.4   8.9  8.2\n"
     ]
    }
   ],
   "source": [
    "print(df.loc[1:2])"
   ]
  },
  {
   "cell_type": "markdown",
   "id": "4fe3b6ea",
   "metadata": {},
   "source": [
    "It is also possible to filter the rows by conditions. The following example shows how to extract all players with more than ten rebounds per game (rpg):"
   ]
  },
  {
   "cell_type": "code",
   "execution_count": 10,
   "id": "c97ec922",
   "metadata": {},
   "outputs": [
    {
     "name": "stdout",
     "output_type": "stream",
     "text": [
      "                    name                team number   ppg   rpg  apg\n",
      "0            Joel Embiid  Philadelphia 76ers    #21  33.4  10.2  4.1\n",
      "1  Giannis Antetokounmpo     Milwaukee Bucks    #34  32.2  12.4  5.3\n"
     ]
    }
   ],
   "source": [
    "print(df.loc[df.loc[:, \"rpg\"] > 10])"
   ]
  },
  {
   "cell_type": "markdown",
   "id": "7f0daca9",
   "metadata": {},
   "source": [
    "If you explicitly want all lines, you can access them without the `loc` attribute. Square brackets or the dot operator are sufficient for this:"
   ]
  },
  {
   "cell_type": "code",
   "execution_count": 11,
   "id": "402740fc",
   "metadata": {},
   "outputs": [
    {
     "name": "stdout",
     "output_type": "stream",
     "text": [
      "0              Joel Embiid\n",
      "1    Giannis Antetokounmpo\n",
      "2              Luka Doncic\n",
      "3           Damien Lillard\n",
      "Name: name, dtype: object\n"
     ]
    }
   ],
   "source": [
    "print(df[\"name\"])"
   ]
  },
  {
   "cell_type": "code",
   "execution_count": 12,
   "id": "12a79ada",
   "metadata": {},
   "outputs": [
    {
     "name": "stdout",
     "output_type": "stream",
     "text": [
      "0              Joel Embiid\n",
      "1    Giannis Antetokounmpo\n",
      "2              Luka Doncic\n",
      "3           Damien Lillard\n",
      "Name: name, dtype: object\n"
     ]
    }
   ],
   "source": [
    "print(df.name)"
   ]
  },
  {
   "cell_type": "markdown",
   "id": "35b0df29",
   "metadata": {},
   "source": [
    "Thus, it follows that the following expressions are interchangeable: `df.loc[:, \"name\"]` == `df[\"name\"]` == `df.name`, which is why filtering by conditions could be rewritten this way:"
   ]
  },
  {
   "cell_type": "code",
   "execution_count": 13,
   "id": "3f1cf037",
   "metadata": {},
   "outputs": [
    {
     "name": "stdout",
     "output_type": "stream",
     "text": [
      "                    name                team number   ppg   rpg  apg\n",
      "0            Joel Embiid  Philadelphia 76ers    #21  33.4  10.2  4.1\n",
      "1  Giannis Antetokounmpo     Milwaukee Bucks    #34  32.2  12.4  5.3\n"
     ]
    }
   ],
   "source": [
    "print(df.loc[df[\"rpg\"] > 10])"
   ]
  },
  {
   "cell_type": "code",
   "execution_count": 14,
   "id": "4a26b04b",
   "metadata": {},
   "outputs": [
    {
     "name": "stdout",
     "output_type": "stream",
     "text": [
      "                    name                team number   ppg   rpg  apg\n",
      "0            Joel Embiid  Philadelphia 76ers    #21  33.4  10.2  4.1\n",
      "1  Giannis Antetokounmpo     Milwaukee Bucks    #34  32.2  12.4  5.3\n"
     ]
    }
   ],
   "source": [
    "print(df.loc[df.rpg > 10])"
   ]
  }
 ],
 "metadata": {
  "kernelspec": {
   "display_name": "Python 3 (ipykernel)",
   "language": "python",
   "name": "python3"
  },
  "language_info": {
   "codemirror_mode": {
    "name": "ipython",
    "version": 3
   },
   "file_extension": ".py",
   "mimetype": "text/x-python",
   "name": "python",
   "nbconvert_exporter": "python",
   "pygments_lexer": "ipython3",
   "version": "3.10.8"
  }
 },
 "nbformat": 4,
 "nbformat_minor": 5
}
