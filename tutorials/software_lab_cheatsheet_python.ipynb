{
 "cells": [
  {
   "cell_type": "markdown",
   "id": "788f323e",
   "metadata": {},
   "source": [
    "# Python"
   ]
  },
  {
   "cell_type": "markdown",
   "id": "a9963eb1",
   "metadata": {},
   "source": [
    "Python is an interpreted, high-level programming language, often used for scientific purposes, with the goal of a code style that is as easy to learn and read as possible. There are many programming libraries for Python that can be easily integrated, such as numpy or pandas."
   ]
  },
  {
   "cell_type": "markdown",
   "id": "156771c4",
   "metadata": {},
   "source": [
    "## Data types"
   ]
  },
  {
   "cell_type": "markdown",
   "id": "fe079704",
   "metadata": {},
   "source": [
    "There are many different built-in data types in Python. The most important ones for us are:\n",
    "- Integers (int)\n",
    "- Floating-point numbers (float)\n",
    "- Booleans (bool)\n",
    "- Strings (str)\n",
    "- Lists (list)\n",
    "- Sets (set)\n",
    "- Tuples (tuple)\n",
    "- Dictionaries (dict)"
   ]
  },
  {
   "cell_type": "markdown",
   "id": "695eaf38",
   "metadata": {},
   "source": [
    "Integers are numbers that can be written without fractions:"
   ]
  },
  {
   "cell_type": "code",
   "execution_count": 1,
   "id": "b8cddf44",
   "metadata": {},
   "outputs": [],
   "source": [
    "int1 = 8\n",
    "int2 = 0\n",
    "int3 = -100"
   ]
  },
  {
   "cell_type": "markdown",
   "id": "9cd144a4",
   "metadata": {},
   "source": [
    "Floating-point numbers are numbers with a decimal point:"
   ]
  },
  {
   "cell_type": "code",
   "execution_count": 2,
   "id": "d284fdbf",
   "metadata": {},
   "outputs": [],
   "source": [
    "float1 = 3.14\n",
    "float2 = 2.73\n",
    "float3 = 10.0"
   ]
  },
  {
   "cell_type": "markdown",
   "id": "f8bcac8f",
   "metadata": {},
   "source": [
    "Booleans are logical values representing on/off, true/false, 1/0:"
   ]
  },
  {
   "cell_type": "code",
   "execution_count": 3,
   "id": "0baca032",
   "metadata": {},
   "outputs": [],
   "source": [
    "bool1 = True\n",
    "bool2 = False"
   ]
  },
  {
   "cell_type": "markdown",
   "id": "f9cd6c8f",
   "metadata": {},
   "source": [
    "Strings are sequences of individual characters, for example words, sentences or other chains of characters:"
   ]
  },
  {
   "cell_type": "code",
   "execution_count": 4,
   "id": "29756bae",
   "metadata": {},
   "outputs": [],
   "source": [
    "str1 = \"Hello World!\"\n",
    "str2 = \"COP 21\"\n",
    "str3 = \"2023\""
   ]
  },
  {
   "cell_type": "markdown",
   "id": "bec55a9c",
   "metadata": {},
   "source": [
    "Lists are sequences of comma-separated numbers, strings, or other data types (for example, lists themselves) and are defined using square brackets:"
   ]
  },
  {
   "cell_type": "code",
   "execution_count": 5,
   "id": "7a143e50",
   "metadata": {},
   "outputs": [],
   "source": [
    "list1 = [1, 2, 3]\n",
    "list2 = [-8, 10.0, \"Hello\"]\n",
    "list3 = [[1, 2], [3, \"A\"], [\"B\", \"C\"]]"
   ]
  },
  {
   "cell_type": "markdown",
   "id": "e98b8895",
   "metadata": {},
   "source": [
    "Tuples are sequences of comma-separated numbers, strings, or other data types (for example, tuples themselves) and are defined using round brackets:"
   ]
  },
  {
   "cell_type": "code",
   "execution_count": 6,
   "id": "00f3cb65",
   "metadata": {},
   "outputs": [],
   "source": [
    "tuple1 = (1, 2, 3)\n",
    "tuple2 = (-8, 10.0, \"Hello\")\n",
    "tuple3 = ((1, 2), (3, \"A\"), (\"B\", \"C\"))"
   ]
  },
  {
   "cell_type": "markdown",
   "id": "ff4390c6",
   "metadata": {},
   "source": [
    "Sets are sequences of comma-separated numbers, strings, or other data types and are defined using curly braces:"
   ]
  },
  {
   "cell_type": "code",
   "execution_count": 7,
   "id": "e8560b81",
   "metadata": {},
   "outputs": [],
   "source": [
    "set1 = {1, 2, 3}\n",
    "set2 = {-8, 10.0, \"Hello\"}"
   ]
  },
  {
   "cell_type": "markdown",
   "id": "b264d7c8",
   "metadata": {},
   "source": [
    "The difference between lists, tuples and sets is (in very simplified terms) that lists are ordered, can contain values multiple times and can also be adjusted afterwards. Tuples cannot be adjusted afterwards, so no values can be changed, added or removed. Sets, on the other hand, are unordered, the order of the individual entries is independent of the order in which they are defined. In addition, sets can contain values only once. As with a tuple, the entries of a set can not be changed, but entries can be added or removed. A few examples:"
   ]
  },
  {
   "cell_type": "code",
   "execution_count": 8,
   "id": "59a35a81",
   "metadata": {},
   "outputs": [
    {
     "name": "stdout",
     "output_type": "stream",
     "text": [
      "[10, 2, 3]\n",
      "{1, 2, 3}\n"
     ]
    }
   ],
   "source": [
    "list1 = [1, 2, 3]\n",
    "list1[0] = 10  # adjust an entry in a list\n",
    "print(list1)\n",
    "\n",
    "set1 = {3, 2, 1, 2}\n",
    "print(set1)  # the set contains the multiple value (2) only once and the order is different from initializing the set"
   ]
  },
  {
   "cell_type": "markdown",
   "id": "ee4e2929",
   "metadata": {},
   "source": [
    "Dictionaries are sequences of key-value pairs where the key is specified as a string and the value can be specified as any data type:"
   ]
  },
  {
   "cell_type": "code",
   "execution_count": 9,
   "id": "1d4a48a9",
   "metadata": {},
   "outputs": [],
   "source": [
    "dict1 = {\"A\": 1, \"B\": 2, \"C\": 3}\n",
    "dict2 = {\"First\": 1.0, \"Second\": \"Two\", \"Third\": [1, 2, 3]}"
   ]
  },
  {
   "cell_type": "markdown",
   "id": "409958d1",
   "metadata": {},
   "source": [
    "## Loops"
   ]
  },
  {
   "cell_type": "markdown",
   "id": "acb1db8c",
   "metadata": {},
   "source": [
    "The most important loops in Python are for and while loops. However, the for loop is implemented somewhat differently in Python than in other programming languages such as C/C++, whereas the while loop is similar."
   ]
  },
  {
   "cell_type": "markdown",
   "id": "4c471939",
   "metadata": {},
   "source": [
    "While loops are loops that are run until a condition is no longer met:"
   ]
  },
  {
   "cell_type": "code",
   "execution_count": 10,
   "id": "b6e1de11",
   "metadata": {},
   "outputs": [
    {
     "name": "stdout",
     "output_type": "stream",
     "text": [
      "x = 0\n",
      "x = 1\n",
      "x = 2\n",
      "x = 3\n",
      "x = 4\n"
     ]
    }
   ],
   "source": [
    "x = 0\n",
    "while x < 5:\n",
    "    print(f\"x = {x}\")\n",
    "    x = x + 1"
   ]
  },
  {
   "cell_type": "markdown",
   "id": "972c951e",
   "metadata": {},
   "source": [
    "For loops, on the other hand, iterate through specific objects, through so-called iterables. An iterable is an object that can be iterated through, i.e. that consists of entries that can be output individually:"
   ]
  },
  {
   "cell_type": "code",
   "execution_count": 11,
   "id": "56ca907c",
   "metadata": {},
   "outputs": [
    {
     "name": "stdout",
     "output_type": "stream",
     "text": [
      "The number is 1\n",
      "The number is 2\n",
      "The number is 3\n",
      "\n",
      "\n",
      "The fruit is Apple\n",
      "The fruit is Banana\n",
      "The fruit is Orange\n",
      "\n",
      "\n",
      "The Character is H\n",
      "The Character is e\n",
      "The Character is l\n",
      "The Character is l\n",
      "The Character is o\n",
      "The Character is  \n",
      "The Character is W\n",
      "The Character is o\n",
      "The Character is r\n",
      "The Character is l\n",
      "The Character is d\n",
      "The Character is !\n"
     ]
    }
   ],
   "source": [
    "# Iterating throug a list\n",
    "list1 = [1, 2, 3]\n",
    "for number in list1:\n",
    "    print(f\"The number is {number}\")\n",
    "print(\"\\n\")\n",
    "\n",
    "# Iterating throug a tuple\n",
    "tuple1 = [\"Apple\", \"Banana\", \"Orange\"]\n",
    "for fruit in tuple1:\n",
    "    print(f\"The fruit is {fruit}\")\n",
    "print(\"\\n\")\n",
    "\n",
    "# Iterating throug a string\n",
    "str1 = \"Hello World!\"\n",
    "for char in str1:\n",
    "    print(f\"The Character is {char}\")"
   ]
  },
  {
   "cell_type": "markdown",
   "id": "6e925480",
   "metadata": {},
   "source": [
    "## Conditions and if statements"
   ]
  },
  {
   "cell_type": "markdown",
   "id": "933fada7",
   "metadata": {},
   "source": [
    "In Python, the usual logical conditions from mathematics can be used:\n",
    "- Equals: `a == b`\n",
    "- Not equals: `a != b`\n",
    "- Less than: `a < b`\n",
    "- Less than or equals: `a <= b`\n",
    "- Greater than: `a > b`\n",
    "- Greater than or equals: `a >= b`"
   ]
  },
  {
   "cell_type": "markdown",
   "id": "a6ec449b",
   "metadata": {},
   "source": [
    "These conditions are often used in if statements. Since Python relies on indentation, all code blocks within the if statement are indented. Important for working with if statements are the keywords if, elif and else. If and elif are each with a condition and else is without. The if statement is checked first. If the condition is met, the code block behind it is executed. The statement elif stands for \"else if\" and is executed if the previous if or elif condition was not met. If no if or elif condition is met, the code behind the else statement is executed. The following example demonstrates an if statement:"
   ]
  },
  {
   "cell_type": "code",
   "execution_count": 12,
   "id": "7e641824",
   "metadata": {},
   "outputs": [
    {
     "name": "stdout",
     "output_type": "stream",
     "text": [
      "a is less than b\n"
     ]
    }
   ],
   "source": [
    "a = 8\n",
    "b = 10\n",
    "if a > 10:\n",
    "    print(\"a is greater than b\")\n",
    "elif a == b:\n",
    "    print(\"a is equal to b\")\n",
    "else:\n",
    "    print(\"a is less than b\")"
   ]
  },
  {
   "cell_type": "markdown",
   "id": "272db5b9",
   "metadata": {},
   "source": [
    "The individual logical conditions can also be linked or negated. If the keyword `and` is between two conditions, both conditions must be True for the linked condition to be True. If the keyword `or` is between two conditions, it is sufficient if one of the conditions is True for the linked condition to be True. The keyword `not` before a condition reverses the result of the condition."
   ]
  },
  {
   "cell_type": "markdown",
   "id": "df6e4062",
   "metadata": {},
   "source": [
    "## Functions"
   ]
  },
  {
   "cell_type": "markdown",
   "id": "6b41b650",
   "metadata": {},
   "source": [
    "Functions are blocks of code that run when they are called. It is possible to pass data to a function or to have data returned from a function. They are created using the `def` keyword and are also indented:"
   ]
  },
  {
   "cell_type": "code",
   "execution_count": 13,
   "id": "14f5f7d1",
   "metadata": {},
   "outputs": [],
   "source": [
    "def hello():\n",
    "    print(\"Hello World!\")"
   ]
  },
  {
   "cell_type": "markdown",
   "id": "47451dea",
   "metadata": {},
   "source": [
    "To call a function then, its name is used."
   ]
  },
  {
   "cell_type": "code",
   "execution_count": 14,
   "id": "4fa33e03",
   "metadata": {},
   "outputs": [
    {
     "name": "stdout",
     "output_type": "stream",
     "text": [
      "Hello World!\n"
     ]
    }
   ],
   "source": [
    "hello()"
   ]
  },
  {
   "cell_type": "markdown",
   "id": "81efde62",
   "metadata": {},
   "source": [
    "When data is passed to a function, it is referred to as arguments or parameters. Strictly speaking, we speak of parameters for the variables that are in the function definition and of arguments for the variables that are passed to the function when it is called:"
   ]
  },
  {
   "cell_type": "code",
   "execution_count": 15,
   "id": "77286f07",
   "metadata": {},
   "outputs": [
    {
     "name": "stdout",
     "output_type": "stream",
     "text": [
      "20\n"
     ]
    }
   ],
   "source": [
    "def sum(num1, num2):\n",
    "    return num1 + num2\n",
    "\n",
    "print(sum(num1=8, num2=12))"
   ]
  },
  {
   "cell_type": "markdown",
   "id": "480389a6",
   "metadata": {},
   "source": [
    "In this example, num1 and num2 are the parameters and 8 and 12 are the arguments."
   ]
  }
 ],
 "metadata": {
  "kernelspec": {
   "display_name": "Python 3 (ipykernel)",
   "language": "python",
   "name": "python3"
  },
  "language_info": {
   "codemirror_mode": {
    "name": "ipython",
    "version": 3
   },
   "file_extension": ".py",
   "mimetype": "text/x-python",
   "name": "python",
   "nbconvert_exporter": "python",
   "pygments_lexer": "ipython3",
   "version": "3.10.8"
  }
 },
 "nbformat": 4,
 "nbformat_minor": 5
}
